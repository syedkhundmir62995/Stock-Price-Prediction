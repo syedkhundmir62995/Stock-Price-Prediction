{
 "cells": [
  {
   "cell_type": "markdown",
   "metadata": {},
   "source": [
    "### Syed Khundmir Azmi"
   ]
  },
  {
   "cell_type": "markdown",
   "metadata": {},
   "source": [
    "# Stock Market Prediction using Numerical and Textual Analysis"
   ]
  },
  {
   "cell_type": "code",
   "execution_count": 1,
   "metadata": {},
   "outputs": [
    {
     "name": "stderr",
     "output_type": "stream",
     "text": [
      "[nltk_data] Downloading package vader_lexicon to\n",
      "[nltk_data]     C:\\Users\\Abid\\AppData\\Roaming\\nltk_data...\n",
      "[nltk_data]   Package vader_lexicon is already up-to-date!\n"
     ]
    }
   ],
   "source": [
    "import pandas as pd\n",
    "import numpy as np\n",
    "import seaborn as sns\n",
    "import matplotlib.pyplot as plt\n",
    "%matplotlib inline\n",
    "\n",
    "import nltk\n",
    "nltk.download('vader_lexicon')\n",
    "\n",
    "from nltk.sentiment.vader import SentimentIntensityAnalyzer\n",
    "sid = SentimentIntensityAnalyzer()"
   ]
  },
  {
   "cell_type": "code",
   "execution_count": 2,
   "metadata": {},
   "outputs": [],
   "source": [
    "# !pip3 install vaderSentiment"
   ]
  },
  {
   "cell_type": "code",
   "execution_count": 3,
   "metadata": {},
   "outputs": [],
   "source": [
    "#Loading Datasets\n",
    "df = pd.read_excel('yahoo finance.xlsx',header = 1,index_col = 'Date')"
   ]
  },
  {
   "cell_type": "code",
   "execution_count": 4,
   "metadata": {},
   "outputs": [
    {
     "data": {
      "text/html": [
       "<div>\n",
       "<style scoped>\n",
       "    .dataframe tbody tr th:only-of-type {\n",
       "        vertical-align: middle;\n",
       "    }\n",
       "\n",
       "    .dataframe tbody tr th {\n",
       "        vertical-align: top;\n",
       "    }\n",
       "\n",
       "    .dataframe thead th {\n",
       "        text-align: right;\n",
       "    }\n",
       "</style>\n",
       "<table border=\"1\" class=\"dataframe\">\n",
       "  <thead>\n",
       "    <tr style=\"text-align: right;\">\n",
       "      <th></th>\n",
       "      <th>Open</th>\n",
       "      <th>High</th>\n",
       "      <th>Low</th>\n",
       "      <th>Close*</th>\n",
       "      <th>Adj Close**</th>\n",
       "      <th>Volume</th>\n",
       "    </tr>\n",
       "    <tr>\n",
       "      <th>Date</th>\n",
       "      <th></th>\n",
       "      <th></th>\n",
       "      <th></th>\n",
       "      <th></th>\n",
       "      <th></th>\n",
       "      <th></th>\n",
       "    </tr>\n",
       "  </thead>\n",
       "  <tbody>\n",
       "    <tr>\n",
       "      <th>2021-06-04</th>\n",
       "      <td>52367.52</td>\n",
       "      <td>52389.02</td>\n",
       "      <td>51952.7</td>\n",
       "      <td>52100.05</td>\n",
       "      <td>52100.05</td>\n",
       "      <td>16700</td>\n",
       "    </tr>\n",
       "    <tr>\n",
       "      <th>2021-06-03</th>\n",
       "      <td>52121.58</td>\n",
       "      <td>52273.23</td>\n",
       "      <td>51942.2</td>\n",
       "      <td>52232.43</td>\n",
       "      <td>52232.43</td>\n",
       "      <td>15000</td>\n",
       "    </tr>\n",
       "    <tr>\n",
       "      <th>2021-06-02</th>\n",
       "      <td>51749.1</td>\n",
       "      <td>51913.92</td>\n",
       "      <td>51450.58</td>\n",
       "      <td>51849.48</td>\n",
       "      <td>51849.48</td>\n",
       "      <td>13500</td>\n",
       "    </tr>\n",
       "    <tr>\n",
       "      <th>2021-06-01</th>\n",
       "      <td>52067.51</td>\n",
       "      <td>52228.65</td>\n",
       "      <td>51808.88</td>\n",
       "      <td>51934.88</td>\n",
       "      <td>51934.88</td>\n",
       "      <td>13400</td>\n",
       "    </tr>\n",
       "    <tr>\n",
       "      <th>2021-05-31</th>\n",
       "      <td>51476.22</td>\n",
       "      <td>52013.22</td>\n",
       "      <td>51179.94</td>\n",
       "      <td>51937.44</td>\n",
       "      <td>51937.44</td>\n",
       "      <td>15300</td>\n",
       "    </tr>\n",
       "  </tbody>\n",
       "</table>\n",
       "</div>"
      ],
      "text/plain": [
       "                Open      High       Low    Close* Adj Close** Volume\n",
       "Date                                                                 \n",
       "2021-06-04  52367.52  52389.02   51952.7  52100.05    52100.05  16700\n",
       "2021-06-03  52121.58  52273.23   51942.2  52232.43    52232.43  15000\n",
       "2021-06-02   51749.1  51913.92  51450.58  51849.48    51849.48  13500\n",
       "2021-06-01  52067.51  52228.65  51808.88  51934.88    51934.88  13400\n",
       "2021-05-31  51476.22  52013.22  51179.94  51937.44    51937.44  15300"
      ]
     },
     "execution_count": 4,
     "metadata": {},
     "output_type": "execute_result"
    }
   ],
   "source": [
    "df.head()"
   ]
  },
  {
   "cell_type": "code",
   "execution_count": 5,
   "metadata": {},
   "outputs": [
    {
     "data": {
      "text/html": [
       "<div>\n",
       "<style scoped>\n",
       "    .dataframe tbody tr th:only-of-type {\n",
       "        vertical-align: middle;\n",
       "    }\n",
       "\n",
       "    .dataframe tbody tr th {\n",
       "        vertical-align: top;\n",
       "    }\n",
       "\n",
       "    .dataframe thead th {\n",
       "        text-align: right;\n",
       "    }\n",
       "</style>\n",
       "<table border=\"1\" class=\"dataframe\">\n",
       "  <thead>\n",
       "    <tr style=\"text-align: right;\">\n",
       "      <th></th>\n",
       "      <th>Open</th>\n",
       "      <th>High</th>\n",
       "      <th>Low</th>\n",
       "      <th>Close*</th>\n",
       "      <th>Adj Close**</th>\n",
       "      <th>Volume</th>\n",
       "    </tr>\n",
       "    <tr>\n",
       "      <th>Date</th>\n",
       "      <th></th>\n",
       "      <th></th>\n",
       "      <th></th>\n",
       "      <th></th>\n",
       "      <th></th>\n",
       "      <th></th>\n",
       "    </tr>\n",
       "  </thead>\n",
       "  <tbody>\n",
       "    <tr>\n",
       "      <th>2020-06-10</th>\n",
       "      <td>34029.14</td>\n",
       "      <td>34350.17</td>\n",
       "      <td>33949.46</td>\n",
       "      <td>34247.05</td>\n",
       "      <td>34247.05</td>\n",
       "      <td>15500</td>\n",
       "    </tr>\n",
       "    <tr>\n",
       "      <th>2020-06-09</th>\n",
       "      <td>34520.79</td>\n",
       "      <td>34811.29</td>\n",
       "      <td>33881.19</td>\n",
       "      <td>33956.69</td>\n",
       "      <td>33956.69</td>\n",
       "      <td>19200</td>\n",
       "    </tr>\n",
       "    <tr>\n",
       "      <th>2020-06-08</th>\n",
       "      <td>34841.17</td>\n",
       "      <td>34927.8</td>\n",
       "      <td>34211.83</td>\n",
       "      <td>34370.58</td>\n",
       "      <td>34370.58</td>\n",
       "      <td>25700</td>\n",
       "    </tr>\n",
       "    <tr>\n",
       "      <th>2020-06-05</th>\n",
       "      <td>34198.55</td>\n",
       "      <td>34405.43</td>\n",
       "      <td>33958.02</td>\n",
       "      <td>34287.24</td>\n",
       "      <td>34287.24</td>\n",
       "      <td>24600</td>\n",
       "    </tr>\n",
       "    <tr>\n",
       "      <th>2020-06-04</th>\n",
       "      <td>34072.5</td>\n",
       "      <td>34310.14</td>\n",
       "      <td>33711.24</td>\n",
       "      <td>33980.7</td>\n",
       "      <td>33980.7</td>\n",
       "      <td>17900</td>\n",
       "    </tr>\n",
       "  </tbody>\n",
       "</table>\n",
       "</div>"
      ],
      "text/plain": [
       "                Open      High       Low    Close* Adj Close** Volume\n",
       "Date                                                                 \n",
       "2020-06-10  34029.14  34350.17  33949.46  34247.05    34247.05  15500\n",
       "2020-06-09  34520.79  34811.29  33881.19  33956.69    33956.69  19200\n",
       "2020-06-08  34841.17   34927.8  34211.83  34370.58    34370.58  25700\n",
       "2020-06-05  34198.55  34405.43  33958.02  34287.24    34287.24  24600\n",
       "2020-06-04   34072.5  34310.14  33711.24   33980.7     33980.7  17900"
      ]
     },
     "execution_count": 5,
     "metadata": {},
     "output_type": "execute_result"
    }
   ],
   "source": [
    "df.tail()"
   ]
  },
  {
   "cell_type": "code",
   "execution_count": 6,
   "metadata": {},
   "outputs": [],
   "source": [
    "headlines = pd.read_csv('india-news-headlines.csv',date_parser = 'publish_date')"
   ]
  },
  {
   "cell_type": "code",
   "execution_count": 7,
   "metadata": {},
   "outputs": [
    {
     "data": {
      "text/html": [
       "<div>\n",
       "<style scoped>\n",
       "    .dataframe tbody tr th:only-of-type {\n",
       "        vertical-align: middle;\n",
       "    }\n",
       "\n",
       "    .dataframe tbody tr th {\n",
       "        vertical-align: top;\n",
       "    }\n",
       "\n",
       "    .dataframe thead th {\n",
       "        text-align: right;\n",
       "    }\n",
       "</style>\n",
       "<table border=\"1\" class=\"dataframe\">\n",
       "  <thead>\n",
       "    <tr style=\"text-align: right;\">\n",
       "      <th></th>\n",
       "      <th>publish_date</th>\n",
       "      <th>headline_category</th>\n",
       "      <th>headline_text</th>\n",
       "    </tr>\n",
       "  </thead>\n",
       "  <tbody>\n",
       "    <tr>\n",
       "      <th>0</th>\n",
       "      <td>20010102</td>\n",
       "      <td>unknown</td>\n",
       "      <td>Status quo will not be disturbed at Ayodhya; s...</td>\n",
       "    </tr>\n",
       "    <tr>\n",
       "      <th>1</th>\n",
       "      <td>20010102</td>\n",
       "      <td>unknown</td>\n",
       "      <td>Fissures in Hurriyat over Pak visit</td>\n",
       "    </tr>\n",
       "    <tr>\n",
       "      <th>2</th>\n",
       "      <td>20010102</td>\n",
       "      <td>unknown</td>\n",
       "      <td>America's unwanted heading for India?</td>\n",
       "    </tr>\n",
       "    <tr>\n",
       "      <th>3</th>\n",
       "      <td>20010102</td>\n",
       "      <td>unknown</td>\n",
       "      <td>For bigwigs; it is destination Goa</td>\n",
       "    </tr>\n",
       "    <tr>\n",
       "      <th>4</th>\n",
       "      <td>20010102</td>\n",
       "      <td>unknown</td>\n",
       "      <td>Extra buses to clear tourist traffic</td>\n",
       "    </tr>\n",
       "  </tbody>\n",
       "</table>\n",
       "</div>"
      ],
      "text/plain": [
       "   publish_date headline_category  \\\n",
       "0      20010102           unknown   \n",
       "1      20010102           unknown   \n",
       "2      20010102           unknown   \n",
       "3      20010102           unknown   \n",
       "4      20010102           unknown   \n",
       "\n",
       "                                       headline_text  \n",
       "0  Status quo will not be disturbed at Ayodhya; s...  \n",
       "1                Fissures in Hurriyat over Pak visit  \n",
       "2              America's unwanted heading for India?  \n",
       "3                 For bigwigs; it is destination Goa  \n",
       "4               Extra buses to clear tourist traffic  "
      ]
     },
     "execution_count": 7,
     "metadata": {},
     "output_type": "execute_result"
    }
   ],
   "source": [
    "headlines.head()"
   ]
  },
  {
   "cell_type": "markdown",
   "metadata": {},
   "source": [
    "## Feature Engineering"
   ]
  },
  {
   "cell_type": "code",
   "execution_count": 8,
   "metadata": {},
   "outputs": [],
   "source": [
    "#Imputing publish_date to date type\n",
    "headlines['publish_date'] = pd.to_datetime(headlines['publish_date'], format='%Y%m%d')"
   ]
  },
  {
   "cell_type": "code",
   "execution_count": 9,
   "metadata": {},
   "outputs": [],
   "source": [
    "headlines.drop(columns = 'headline_category',inplace = True)"
   ]
  },
  {
   "cell_type": "code",
   "execution_count": 10,
   "metadata": {},
   "outputs": [
    {
     "data": {
      "text/html": [
       "<div>\n",
       "<style scoped>\n",
       "    .dataframe tbody tr th:only-of-type {\n",
       "        vertical-align: middle;\n",
       "    }\n",
       "\n",
       "    .dataframe tbody tr th {\n",
       "        vertical-align: top;\n",
       "    }\n",
       "\n",
       "    .dataframe thead th {\n",
       "        text-align: right;\n",
       "    }\n",
       "</style>\n",
       "<table border=\"1\" class=\"dataframe\">\n",
       "  <thead>\n",
       "    <tr style=\"text-align: right;\">\n",
       "      <th></th>\n",
       "      <th>publish_date</th>\n",
       "      <th>headline_text</th>\n",
       "    </tr>\n",
       "  </thead>\n",
       "  <tbody>\n",
       "    <tr>\n",
       "      <th>0</th>\n",
       "      <td>2001-01-02</td>\n",
       "      <td>Status quo will not be disturbed at Ayodhya; s...</td>\n",
       "    </tr>\n",
       "    <tr>\n",
       "      <th>1</th>\n",
       "      <td>2001-01-02</td>\n",
       "      <td>Fissures in Hurriyat over Pak visit</td>\n",
       "    </tr>\n",
       "    <tr>\n",
       "      <th>2</th>\n",
       "      <td>2001-01-02</td>\n",
       "      <td>America's unwanted heading for India?</td>\n",
       "    </tr>\n",
       "    <tr>\n",
       "      <th>3</th>\n",
       "      <td>2001-01-02</td>\n",
       "      <td>For bigwigs; it is destination Goa</td>\n",
       "    </tr>\n",
       "    <tr>\n",
       "      <th>4</th>\n",
       "      <td>2001-01-02</td>\n",
       "      <td>Extra buses to clear tourist traffic</td>\n",
       "    </tr>\n",
       "  </tbody>\n",
       "</table>\n",
       "</div>"
      ],
      "text/plain": [
       "  publish_date                                      headline_text\n",
       "0   2001-01-02  Status quo will not be disturbed at Ayodhya; s...\n",
       "1   2001-01-02                Fissures in Hurriyat over Pak visit\n",
       "2   2001-01-02              America's unwanted heading for India?\n",
       "3   2001-01-02                 For bigwigs; it is destination Goa\n",
       "4   2001-01-02               Extra buses to clear tourist traffic"
      ]
     },
     "execution_count": 10,
     "metadata": {},
     "output_type": "execute_result"
    }
   ],
   "source": [
    "headlines.head()"
   ]
  },
  {
   "cell_type": "code",
   "execution_count": 11,
   "metadata": {},
   "outputs": [
    {
     "data": {
      "text/html": [
       "<div>\n",
       "<style scoped>\n",
       "    .dataframe tbody tr th:only-of-type {\n",
       "        vertical-align: middle;\n",
       "    }\n",
       "\n",
       "    .dataframe tbody tr th {\n",
       "        vertical-align: top;\n",
       "    }\n",
       "\n",
       "    .dataframe thead th {\n",
       "        text-align: right;\n",
       "    }\n",
       "</style>\n",
       "<table border=\"1\" class=\"dataframe\">\n",
       "  <thead>\n",
       "    <tr style=\"text-align: right;\">\n",
       "      <th></th>\n",
       "      <th>publish_date</th>\n",
       "      <th>headline_text</th>\n",
       "    </tr>\n",
       "  </thead>\n",
       "  <tbody>\n",
       "    <tr>\n",
       "      <th>3424062</th>\n",
       "      <td>2020-12-31</td>\n",
       "      <td>Covid-19: Despite dip in cases; Rajasthan amon...</td>\n",
       "    </tr>\n",
       "    <tr>\n",
       "      <th>3424063</th>\n",
       "      <td>2020-12-31</td>\n",
       "      <td>Covid-19: Despite dip in cases; Rajasthan amon...</td>\n",
       "    </tr>\n",
       "    <tr>\n",
       "      <th>3424064</th>\n",
       "      <td>2020-12-31</td>\n",
       "      <td>Covid-19: Despite dip in cases; Rajasthan amon...</td>\n",
       "    </tr>\n",
       "    <tr>\n",
       "      <th>3424065</th>\n",
       "      <td>2020-12-31</td>\n",
       "      <td>Govt extends deadline for use of FASTag till F...</td>\n",
       "    </tr>\n",
       "    <tr>\n",
       "      <th>3424066</th>\n",
       "      <td>2020-12-31</td>\n",
       "      <td>Celebs plan to party safely and responsibly on...</td>\n",
       "    </tr>\n",
       "  </tbody>\n",
       "</table>\n",
       "</div>"
      ],
      "text/plain": [
       "        publish_date                                      headline_text\n",
       "3424062   2020-12-31  Covid-19: Despite dip in cases; Rajasthan amon...\n",
       "3424063   2020-12-31  Covid-19: Despite dip in cases; Rajasthan amon...\n",
       "3424064   2020-12-31  Covid-19: Despite dip in cases; Rajasthan amon...\n",
       "3424065   2020-12-31  Govt extends deadline for use of FASTag till F...\n",
       "3424066   2020-12-31  Celebs plan to party safely and responsibly on..."
      ]
     },
     "execution_count": 11,
     "metadata": {},
     "output_type": "execute_result"
    }
   ],
   "source": [
    "headlines.tail()"
   ]
  },
  {
   "cell_type": "code",
   "execution_count": 12,
   "metadata": {},
   "outputs": [],
   "source": [
    "stock_headlines = headlines.groupby('publish_date')['headline_text'].sum()"
   ]
  },
  {
   "cell_type": "code",
   "execution_count": 13,
   "metadata": {},
   "outputs": [],
   "source": [
    "stock_headlines = pd.DataFrame(stock_headlines)"
   ]
  },
  {
   "cell_type": "code",
   "execution_count": 14,
   "metadata": {},
   "outputs": [
    {
     "data": {
      "text/html": [
       "<div>\n",
       "<style scoped>\n",
       "    .dataframe tbody tr th:only-of-type {\n",
       "        vertical-align: middle;\n",
       "    }\n",
       "\n",
       "    .dataframe tbody tr th {\n",
       "        vertical-align: top;\n",
       "    }\n",
       "\n",
       "    .dataframe thead th {\n",
       "        text-align: right;\n",
       "    }\n",
       "</style>\n",
       "<table border=\"1\" class=\"dataframe\">\n",
       "  <thead>\n",
       "    <tr style=\"text-align: right;\">\n",
       "      <th></th>\n",
       "      <th>headline_text</th>\n",
       "    </tr>\n",
       "    <tr>\n",
       "      <th>publish_date</th>\n",
       "      <th></th>\n",
       "    </tr>\n",
       "  </thead>\n",
       "  <tbody>\n",
       "    <tr>\n",
       "      <th>2001-01-02</th>\n",
       "      <td>Status quo will not be disturbed at Ayodhya; s...</td>\n",
       "    </tr>\n",
       "    <tr>\n",
       "      <th>2001-01-03</th>\n",
       "      <td>Powerless north India gropes in the darkThink ...</td>\n",
       "    </tr>\n",
       "    <tr>\n",
       "      <th>2001-01-04</th>\n",
       "      <td>The string that pulled Stephen Hawking to Indi...</td>\n",
       "    </tr>\n",
       "    <tr>\n",
       "      <th>2001-01-05</th>\n",
       "      <td>Light combat craft takes India into club class...</td>\n",
       "    </tr>\n",
       "    <tr>\n",
       "      <th>2001-01-06</th>\n",
       "      <td>Light combat craft takes India into club class...</td>\n",
       "    </tr>\n",
       "  </tbody>\n",
       "</table>\n",
       "</div>"
      ],
      "text/plain": [
       "                                                  headline_text\n",
       "publish_date                                                   \n",
       "2001-01-02    Status quo will not be disturbed at Ayodhya; s...\n",
       "2001-01-03    Powerless north India gropes in the darkThink ...\n",
       "2001-01-04    The string that pulled Stephen Hawking to Indi...\n",
       "2001-01-05    Light combat craft takes India into club class...\n",
       "2001-01-06    Light combat craft takes India into club class..."
      ]
     },
     "execution_count": 14,
     "metadata": {},
     "output_type": "execute_result"
    }
   ],
   "source": [
    "stock_headlines.head()"
   ]
  },
  {
   "cell_type": "code",
   "execution_count": 15,
   "metadata": {},
   "outputs": [
    {
     "data": {
      "text/html": [
       "<div>\n",
       "<style scoped>\n",
       "    .dataframe tbody tr th:only-of-type {\n",
       "        vertical-align: middle;\n",
       "    }\n",
       "\n",
       "    .dataframe tbody tr th {\n",
       "        vertical-align: top;\n",
       "    }\n",
       "\n",
       "    .dataframe thead th {\n",
       "        text-align: right;\n",
       "    }\n",
       "</style>\n",
       "<table border=\"1\" class=\"dataframe\">\n",
       "  <thead>\n",
       "    <tr style=\"text-align: right;\">\n",
       "      <th></th>\n",
       "      <th>Open</th>\n",
       "      <th>High</th>\n",
       "      <th>Low</th>\n",
       "      <th>Close*</th>\n",
       "      <th>Adj Close**</th>\n",
       "      <th>Volume</th>\n",
       "    </tr>\n",
       "    <tr>\n",
       "      <th>Date</th>\n",
       "      <th></th>\n",
       "      <th></th>\n",
       "      <th></th>\n",
       "      <th></th>\n",
       "      <th></th>\n",
       "      <th></th>\n",
       "    </tr>\n",
       "  </thead>\n",
       "  <tbody>\n",
       "    <tr>\n",
       "      <th>2021-06-04</th>\n",
       "      <td>52367.52</td>\n",
       "      <td>52389.02</td>\n",
       "      <td>51952.7</td>\n",
       "      <td>52100.05</td>\n",
       "      <td>52100.05</td>\n",
       "      <td>16700</td>\n",
       "    </tr>\n",
       "    <tr>\n",
       "      <th>2021-06-03</th>\n",
       "      <td>52121.58</td>\n",
       "      <td>52273.23</td>\n",
       "      <td>51942.2</td>\n",
       "      <td>52232.43</td>\n",
       "      <td>52232.43</td>\n",
       "      <td>15000</td>\n",
       "    </tr>\n",
       "    <tr>\n",
       "      <th>2021-06-02</th>\n",
       "      <td>51749.1</td>\n",
       "      <td>51913.92</td>\n",
       "      <td>51450.58</td>\n",
       "      <td>51849.48</td>\n",
       "      <td>51849.48</td>\n",
       "      <td>13500</td>\n",
       "    </tr>\n",
       "    <tr>\n",
       "      <th>2021-06-01</th>\n",
       "      <td>52067.51</td>\n",
       "      <td>52228.65</td>\n",
       "      <td>51808.88</td>\n",
       "      <td>51934.88</td>\n",
       "      <td>51934.88</td>\n",
       "      <td>13400</td>\n",
       "    </tr>\n",
       "    <tr>\n",
       "      <th>2021-05-31</th>\n",
       "      <td>51476.22</td>\n",
       "      <td>52013.22</td>\n",
       "      <td>51179.94</td>\n",
       "      <td>51937.44</td>\n",
       "      <td>51937.44</td>\n",
       "      <td>15300</td>\n",
       "    </tr>\n",
       "  </tbody>\n",
       "</table>\n",
       "</div>"
      ],
      "text/plain": [
       "                Open      High       Low    Close* Adj Close** Volume\n",
       "Date                                                                 \n",
       "2021-06-04  52367.52  52389.02   51952.7  52100.05    52100.05  16700\n",
       "2021-06-03  52121.58  52273.23   51942.2  52232.43    52232.43  15000\n",
       "2021-06-02   51749.1  51913.92  51450.58  51849.48    51849.48  13500\n",
       "2021-06-01  52067.51  52228.65  51808.88  51934.88    51934.88  13400\n",
       "2021-05-31  51476.22  52013.22  51179.94  51937.44    51937.44  15300"
      ]
     },
     "execution_count": 15,
     "metadata": {},
     "output_type": "execute_result"
    }
   ],
   "source": [
    "df.head()"
   ]
  },
  {
   "cell_type": "code",
   "execution_count": 16,
   "metadata": {},
   "outputs": [],
   "source": [
    "df.reset_index(inplace = True)\n",
    "stock_headlines.reset_index(inplace = True)"
   ]
  },
  {
   "cell_type": "code",
   "execution_count": 17,
   "metadata": {},
   "outputs": [
    {
     "data": {
      "text/html": [
       "<div>\n",
       "<style scoped>\n",
       "    .dataframe tbody tr th:only-of-type {\n",
       "        vertical-align: middle;\n",
       "    }\n",
       "\n",
       "    .dataframe tbody tr th {\n",
       "        vertical-align: top;\n",
       "    }\n",
       "\n",
       "    .dataframe thead th {\n",
       "        text-align: right;\n",
       "    }\n",
       "</style>\n",
       "<table border=\"1\" class=\"dataframe\">\n",
       "  <thead>\n",
       "    <tr style=\"text-align: right;\">\n",
       "      <th></th>\n",
       "      <th>Date</th>\n",
       "      <th>Open</th>\n",
       "      <th>High</th>\n",
       "      <th>Low</th>\n",
       "      <th>Close*</th>\n",
       "      <th>Adj Close**</th>\n",
       "      <th>Volume</th>\n",
       "    </tr>\n",
       "  </thead>\n",
       "  <tbody>\n",
       "    <tr>\n",
       "      <th>0</th>\n",
       "      <td>2021-06-04</td>\n",
       "      <td>52367.52</td>\n",
       "      <td>52389.02</td>\n",
       "      <td>51952.7</td>\n",
       "      <td>52100.05</td>\n",
       "      <td>52100.05</td>\n",
       "      <td>16700</td>\n",
       "    </tr>\n",
       "    <tr>\n",
       "      <th>1</th>\n",
       "      <td>2021-06-03</td>\n",
       "      <td>52121.58</td>\n",
       "      <td>52273.23</td>\n",
       "      <td>51942.2</td>\n",
       "      <td>52232.43</td>\n",
       "      <td>52232.43</td>\n",
       "      <td>15000</td>\n",
       "    </tr>\n",
       "    <tr>\n",
       "      <th>2</th>\n",
       "      <td>2021-06-02</td>\n",
       "      <td>51749.1</td>\n",
       "      <td>51913.92</td>\n",
       "      <td>51450.58</td>\n",
       "      <td>51849.48</td>\n",
       "      <td>51849.48</td>\n",
       "      <td>13500</td>\n",
       "    </tr>\n",
       "    <tr>\n",
       "      <th>3</th>\n",
       "      <td>2021-06-01</td>\n",
       "      <td>52067.51</td>\n",
       "      <td>52228.65</td>\n",
       "      <td>51808.88</td>\n",
       "      <td>51934.88</td>\n",
       "      <td>51934.88</td>\n",
       "      <td>13400</td>\n",
       "    </tr>\n",
       "    <tr>\n",
       "      <th>4</th>\n",
       "      <td>2021-05-31</td>\n",
       "      <td>51476.22</td>\n",
       "      <td>52013.22</td>\n",
       "      <td>51179.94</td>\n",
       "      <td>51937.44</td>\n",
       "      <td>51937.44</td>\n",
       "      <td>15300</td>\n",
       "    </tr>\n",
       "  </tbody>\n",
       "</table>\n",
       "</div>"
      ],
      "text/plain": [
       "        Date      Open      High       Low    Close* Adj Close** Volume\n",
       "0 2021-06-04  52367.52  52389.02   51952.7  52100.05    52100.05  16700\n",
       "1 2021-06-03  52121.58  52273.23   51942.2  52232.43    52232.43  15000\n",
       "2 2021-06-02   51749.1  51913.92  51450.58  51849.48    51849.48  13500\n",
       "3 2021-06-01  52067.51  52228.65  51808.88  51934.88    51934.88  13400\n",
       "4 2021-05-31  51476.22  52013.22  51179.94  51937.44    51937.44  15300"
      ]
     },
     "execution_count": 17,
     "metadata": {},
     "output_type": "execute_result"
    }
   ],
   "source": [
    "df.head()"
   ]
  },
  {
   "cell_type": "code",
   "execution_count": 18,
   "metadata": {},
   "outputs": [],
   "source": [
    "stock_headlines.rename(columns = {'publish_date': 'Date','headline_text':'Headlines'},inplace = True)"
   ]
  },
  {
   "cell_type": "code",
   "execution_count": 19,
   "metadata": {},
   "outputs": [],
   "source": [
    "# stock_data = pd.concat([df,stock_headlines],axis = 1).dropna()\n",
    "stock_data = df.merge(stock_headlines,how = 'inner',on = 'Date',sort = True)"
   ]
  },
  {
   "cell_type": "code",
   "execution_count": 20,
   "metadata": {},
   "outputs": [
    {
     "data": {
      "text/html": [
       "<div>\n",
       "<style scoped>\n",
       "    .dataframe tbody tr th:only-of-type {\n",
       "        vertical-align: middle;\n",
       "    }\n",
       "\n",
       "    .dataframe tbody tr th {\n",
       "        vertical-align: top;\n",
       "    }\n",
       "\n",
       "    .dataframe thead th {\n",
       "        text-align: right;\n",
       "    }\n",
       "</style>\n",
       "<table border=\"1\" class=\"dataframe\">\n",
       "  <thead>\n",
       "    <tr style=\"text-align: right;\">\n",
       "      <th></th>\n",
       "      <th>Date</th>\n",
       "      <th>Open</th>\n",
       "      <th>High</th>\n",
       "      <th>Low</th>\n",
       "      <th>Close*</th>\n",
       "      <th>Adj Close**</th>\n",
       "      <th>Volume</th>\n",
       "      <th>Headlines</th>\n",
       "    </tr>\n",
       "  </thead>\n",
       "  <tbody>\n",
       "    <tr>\n",
       "      <th>0</th>\n",
       "      <td>2020-06-04</td>\n",
       "      <td>34072.5</td>\n",
       "      <td>34310.14</td>\n",
       "      <td>33711.24</td>\n",
       "      <td>33980.7</td>\n",
       "      <td>33980.7</td>\n",
       "      <td>17900</td>\n",
       "      <td>NMC plans 100-bed centre in ESI HospitalGarmen...</td>\n",
       "    </tr>\n",
       "    <tr>\n",
       "      <th>1</th>\n",
       "      <td>2020-06-05</td>\n",
       "      <td>34198.55</td>\n",
       "      <td>34405.43</td>\n",
       "      <td>33958.02</td>\n",
       "      <td>34287.24</td>\n",
       "      <td>34287.24</td>\n",
       "      <td>24600</td>\n",
       "      <td>Woman electrocuted in Deolali CampWorld Enviro...</td>\n",
       "    </tr>\n",
       "    <tr>\n",
       "      <th>2</th>\n",
       "      <td>2020-06-08</td>\n",
       "      <td>34841.17</td>\n",
       "      <td>34927.8</td>\n",
       "      <td>34211.83</td>\n",
       "      <td>34370.58</td>\n",
       "      <td>34370.58</td>\n",
       "      <td>25700</td>\n",
       "      <td>DK KSRTC loses Rs 86 cr during lockdownVasco s...</td>\n",
       "    </tr>\n",
       "    <tr>\n",
       "      <th>3</th>\n",
       "      <td>2020-06-09</td>\n",
       "      <td>34520.79</td>\n",
       "      <td>34811.29</td>\n",
       "      <td>33881.19</td>\n",
       "      <td>33956.69</td>\n",
       "      <td>33956.69</td>\n",
       "      <td>19200</td>\n",
       "      <td>New library with 49k books opens in Madikeri63...</td>\n",
       "    </tr>\n",
       "    <tr>\n",
       "      <th>4</th>\n",
       "      <td>2020-06-10</td>\n",
       "      <td>34029.14</td>\n",
       "      <td>34350.17</td>\n",
       "      <td>33949.46</td>\n",
       "      <td>34247.05</td>\n",
       "      <td>34247.05</td>\n",
       "      <td>15500</td>\n",
       "      <td>Wearing PPE kits can be cumbersome; but custom...</td>\n",
       "    </tr>\n",
       "  </tbody>\n",
       "</table>\n",
       "</div>"
      ],
      "text/plain": [
       "        Date      Open      High       Low    Close* Adj Close** Volume  \\\n",
       "0 2020-06-04   34072.5  34310.14  33711.24   33980.7     33980.7  17900   \n",
       "1 2020-06-05  34198.55  34405.43  33958.02  34287.24    34287.24  24600   \n",
       "2 2020-06-08  34841.17   34927.8  34211.83  34370.58    34370.58  25700   \n",
       "3 2020-06-09  34520.79  34811.29  33881.19  33956.69    33956.69  19200   \n",
       "4 2020-06-10  34029.14  34350.17  33949.46  34247.05    34247.05  15500   \n",
       "\n",
       "                                           Headlines  \n",
       "0  NMC plans 100-bed centre in ESI HospitalGarmen...  \n",
       "1  Woman electrocuted in Deolali CampWorld Enviro...  \n",
       "2  DK KSRTC loses Rs 86 cr during lockdownVasco s...  \n",
       "3  New library with 49k books opens in Madikeri63...  \n",
       "4  Wearing PPE kits can be cumbersome; but custom...  "
      ]
     },
     "execution_count": 20,
     "metadata": {},
     "output_type": "execute_result"
    }
   ],
   "source": [
    "stock_data.head()"
   ]
  },
  {
   "cell_type": "code",
   "execution_count": 21,
   "metadata": {},
   "outputs": [
    {
     "name": "stdout",
     "output_type": "stream",
     "text": [
      "<class 'pandas.core.frame.DataFrame'>\n",
      "Int64Index: 148 entries, 0 to 147\n",
      "Data columns (total 8 columns):\n",
      " #   Column       Non-Null Count  Dtype         \n",
      "---  ------       --------------  -----         \n",
      " 0   Date         148 non-null    datetime64[ns]\n",
      " 1   Open         148 non-null    object        \n",
      " 2   High         148 non-null    object        \n",
      " 3   Low          148 non-null    object        \n",
      " 4   Close*       148 non-null    object        \n",
      " 5   Adj Close**  148 non-null    object        \n",
      " 6   Volume       148 non-null    object        \n",
      " 7   Headlines    148 non-null    object        \n",
      "dtypes: datetime64[ns](1), object(7)\n",
      "memory usage: 6.4+ KB\n"
     ]
    }
   ],
   "source": [
    "stock_data.info()"
   ]
  },
  {
   "cell_type": "code",
   "execution_count": 22,
   "metadata": {},
   "outputs": [],
   "source": [
    "#Type casting Open column\n",
    "stock_data['Open'].replace('-',np.nan,inplace = True)\n",
    "stock_data['Open'].fillna(stock_data['Open'].mean(),inplace = True)\n",
    "stock_data['Open'] = pd.to_numeric(stock_data['Open'])"
   ]
  },
  {
   "cell_type": "code",
   "execution_count": 23,
   "metadata": {},
   "outputs": [],
   "source": [
    "#Type casting High column\n",
    "stock_data['High'].replace('-',np.nan,inplace = True)\n",
    "stock_data['High'].fillna(stock_data['High'].mean(),inplace = True)\n",
    "stock_data['High'] = pd.to_numeric(stock_data['High'])"
   ]
  },
  {
   "cell_type": "code",
   "execution_count": 24,
   "metadata": {},
   "outputs": [],
   "source": [
    "#Type casting Low column\n",
    "stock_data['Low'].replace('-',np.nan,inplace = True)\n",
    "stock_data['Low'].fillna(stock_data['Low'].mean(),inplace = True)\n",
    "stock_data['Low'] = pd.to_numeric(stock_data['Low'])"
   ]
  },
  {
   "cell_type": "code",
   "execution_count": 25,
   "metadata": {},
   "outputs": [],
   "source": [
    "#Type casting Close* column\n",
    "stock_data['Close*'].replace('-',np.nan,inplace = True)\n",
    "stock_data['Close*'].fillna(stock_data['Close*'].mean(),inplace = True)\n",
    "stock_data['Close*'] = pd.to_numeric(stock_data['Close*'])"
   ]
  },
  {
   "cell_type": "code",
   "execution_count": 26,
   "metadata": {},
   "outputs": [],
   "source": [
    "#Type casting Adj Close** column\n",
    "stock_data['Adj Close**'].replace('-',np.nan,inplace = True)\n",
    "stock_data['Adj Close**'].fillna(stock_data['Adj Close**'].mean(),inplace = True)\n",
    "stock_data['Adj Close**'] = pd.to_numeric(stock_data['Adj Close**'])"
   ]
  },
  {
   "cell_type": "code",
   "execution_count": 27,
   "metadata": {},
   "outputs": [],
   "source": [
    "#Type casting Volume column\n",
    "stock_data['Volume'].replace('-',np.nan,inplace = True)\n",
    "stock_data['Volume'].fillna(stock_data['Volume'].mean(),inplace = True)\n",
    "stock_data['Volume'] = pd.to_numeric(stock_data['Volume'])"
   ]
  },
  {
   "cell_type": "code",
   "execution_count": 28,
   "metadata": {},
   "outputs": [
    {
     "name": "stdout",
     "output_type": "stream",
     "text": [
      "<class 'pandas.core.frame.DataFrame'>\n",
      "Int64Index: 148 entries, 0 to 147\n",
      "Data columns (total 8 columns):\n",
      " #   Column       Non-Null Count  Dtype         \n",
      "---  ------       --------------  -----         \n",
      " 0   Date         148 non-null    datetime64[ns]\n",
      " 1   Open         148 non-null    float64       \n",
      " 2   High         148 non-null    float64       \n",
      " 3   Low          148 non-null    float64       \n",
      " 4   Close*       148 non-null    float64       \n",
      " 5   Adj Close**  148 non-null    float64       \n",
      " 6   Volume       148 non-null    float64       \n",
      " 7   Headlines    148 non-null    object        \n",
      "dtypes: datetime64[ns](1), float64(6), object(1)\n",
      "memory usage: 9.8+ KB\n"
     ]
    }
   ],
   "source": [
    "stock_data.info()"
   ]
  },
  {
   "cell_type": "code",
   "execution_count": 29,
   "metadata": {},
   "outputs": [
    {
     "data": {
      "text/plain": [
       "<matplotlib.legend.Legend at 0x14d36bc8>"
      ]
     },
     "execution_count": 29,
     "metadata": {},
     "output_type": "execute_result"
    },
    {
     "data": {
      "image/png": "[encoded data removed]",
      "text/plain": [
       "<Figure size 720x504 with 1 Axes>"
      ]
     },
     "metadata": {
      "needs_background": "light"
     },
     "output_type": "display_data"
    }
   ],
   "source": [
    "# setting figure size\n",
    "plt.figure(figsize=(10,7))\n",
    "\n",
    "# plotting the close price and a 7-day rolling mean of close price\n",
    "stock_data['Close*'].plot(label = 'Close')\n",
    "stock_data.rolling(window=7).mean()['Close*'].plot(marker = '+',label = 'Rolling Average')\n",
    "\n",
    "\n",
    "\n",
    "\n",
    "plt.title(\"Close Price\")\n",
    "plt.xlabel('Date')\n",
    "plt.ylabel('Close Price (INR)')\n",
    "plt.legend()"
   ]
  },
  {
   "cell_type": "code",
   "execution_count": 30,
   "metadata": {},
   "outputs": [
    {
     "data": {
      "text/html": [
       "<div>\n",
       "<style scoped>\n",
       "    .dataframe tbody tr th:only-of-type {\n",
       "        vertical-align: middle;\n",
       "    }\n",
       "\n",
       "    .dataframe tbody tr th {\n",
       "        vertical-align: top;\n",
       "    }\n",
       "\n",
       "    .dataframe thead th {\n",
       "        text-align: right;\n",
       "    }\n",
       "</style>\n",
       "<table border=\"1\" class=\"dataframe\">\n",
       "  <thead>\n",
       "    <tr style=\"text-align: right;\">\n",
       "      <th></th>\n",
       "      <th>Date</th>\n",
       "      <th>Open</th>\n",
       "      <th>High</th>\n",
       "      <th>Low</th>\n",
       "      <th>Close*</th>\n",
       "      <th>Adj Close**</th>\n",
       "      <th>Volume</th>\n",
       "      <th>Headlines</th>\n",
       "    </tr>\n",
       "  </thead>\n",
       "  <tbody>\n",
       "    <tr>\n",
       "      <th>0</th>\n",
       "      <td>2020-06-04</td>\n",
       "      <td>34072.50</td>\n",
       "      <td>34310.14</td>\n",
       "      <td>33711.24</td>\n",
       "      <td>33980.70</td>\n",
       "      <td>33980.70</td>\n",
       "      <td>17900.0</td>\n",
       "      <td>NMC plans 100-bed centre in ESI HospitalGarmen...</td>\n",
       "    </tr>\n",
       "    <tr>\n",
       "      <th>1</th>\n",
       "      <td>2020-06-05</td>\n",
       "      <td>34198.55</td>\n",
       "      <td>34405.43</td>\n",
       "      <td>33958.02</td>\n",
       "      <td>34287.24</td>\n",
       "      <td>34287.24</td>\n",
       "      <td>24600.0</td>\n",
       "      <td>Woman electrocuted in Deolali CampWorld Enviro...</td>\n",
       "    </tr>\n",
       "    <tr>\n",
       "      <th>2</th>\n",
       "      <td>2020-06-08</td>\n",
       "      <td>34841.17</td>\n",
       "      <td>34927.80</td>\n",
       "      <td>34211.83</td>\n",
       "      <td>34370.58</td>\n",
       "      <td>34370.58</td>\n",
       "      <td>25700.0</td>\n",
       "      <td>DK KSRTC loses Rs 86 cr during lockdownVasco s...</td>\n",
       "    </tr>\n",
       "    <tr>\n",
       "      <th>3</th>\n",
       "      <td>2020-06-09</td>\n",
       "      <td>34520.79</td>\n",
       "      <td>34811.29</td>\n",
       "      <td>33881.19</td>\n",
       "      <td>33956.69</td>\n",
       "      <td>33956.69</td>\n",
       "      <td>19200.0</td>\n",
       "      <td>New library with 49k books opens in Madikeri63...</td>\n",
       "    </tr>\n",
       "    <tr>\n",
       "      <th>4</th>\n",
       "      <td>2020-06-10</td>\n",
       "      <td>34029.14</td>\n",
       "      <td>34350.17</td>\n",
       "      <td>33949.46</td>\n",
       "      <td>34247.05</td>\n",
       "      <td>34247.05</td>\n",
       "      <td>15500.0</td>\n",
       "      <td>Wearing PPE kits can be cumbersome; but custom...</td>\n",
       "    </tr>\n",
       "  </tbody>\n",
       "</table>\n",
       "</div>"
      ],
      "text/plain": [
       "        Date      Open      High       Low    Close*  Adj Close**   Volume  \\\n",
       "0 2020-06-04  34072.50  34310.14  33711.24  33980.70     33980.70  17900.0   \n",
       "1 2020-06-05  34198.55  34405.43  33958.02  34287.24     34287.24  24600.0   \n",
       "2 2020-06-08  34841.17  34927.80  34211.83  34370.58     34370.58  25700.0   \n",
       "3 2020-06-09  34520.79  34811.29  33881.19  33956.69     33956.69  19200.0   \n",
       "4 2020-06-10  34029.14  34350.17  33949.46  34247.05     34247.05  15500.0   \n",
       "\n",
       "                                           Headlines  \n",
       "0  NMC plans 100-bed centre in ESI HospitalGarmen...  \n",
       "1  Woman electrocuted in Deolali CampWorld Enviro...  \n",
       "2  DK KSRTC loses Rs 86 cr during lockdownVasco s...  \n",
       "3  New library with 49k books opens in Madikeri63...  \n",
       "4  Wearing PPE kits can be cumbersome; but custom...  "
      ]
     },
     "execution_count": 30,
     "metadata": {},
     "output_type": "execute_result"
    }
   ],
   "source": [
    "stock_data.head()"
   ]
  },
  {
   "cell_type": "code",
   "execution_count": 31,
   "metadata": {},
   "outputs": [
    {
     "data": {
      "text/plain": [
       "{'neg': 0.0, 'neu': 1.0, 'pos': 0.0, 'compound': 0.0}"
      ]
     },
     "execution_count": 31,
     "metadata": {},
     "output_type": "execute_result"
    }
   ],
   "source": [
    "sid.polarity_scores('hey baliq go whats up')"
   ]
  },
  {
   "cell_type": "code",
   "execution_count": 32,
   "metadata": {},
   "outputs": [],
   "source": [
    "#Sentiment Analysis\n",
    "\n",
    "stock_data['compound'] = stock_data['Headlines'].apply(lambda x: sid.polarity_scores(x)['compound'])\n",
    "stock_data['positive'] = stock_data['Headlines'].apply(lambda x: sid.polarity_scores(x)['pos'])\n",
    "stock_data['negative'] = stock_data['Headlines'].apply(lambda x: sid.polarity_scores(x)['neg'])\n",
    "stock_data['neutral'] = stock_data['Headlines'].apply(lambda x: sid.polarity_scores(x)['neu'])"
   ]
  },
  {
   "cell_type": "code",
   "execution_count": 33,
   "metadata": {},
   "outputs": [],
   "source": [
    "stock_data.drop(columns = ['Headlines'],inplace = True)"
   ]
  },
  {
   "cell_type": "code",
   "execution_count": 34,
   "metadata": {},
   "outputs": [
    {
     "data": {
      "text/html": [
       "<div>\n",
       "<style scoped>\n",
       "    .dataframe tbody tr th:only-of-type {\n",
       "        vertical-align: middle;\n",
       "    }\n",
       "\n",
       "    .dataframe tbody tr th {\n",
       "        vertical-align: top;\n",
       "    }\n",
       "\n",
       "    .dataframe thead th {\n",
       "        text-align: right;\n",
       "    }\n",
       "</style>\n",
       "<table border=\"1\" class=\"dataframe\">\n",
       "  <thead>\n",
       "    <tr style=\"text-align: right;\">\n",
       "      <th></th>\n",
       "      <th>Date</th>\n",
       "      <th>Open</th>\n",
       "      <th>High</th>\n",
       "      <th>Low</th>\n",
       "      <th>Close*</th>\n",
       "      <th>Adj Close**</th>\n",
       "      <th>Volume</th>\n",
       "      <th>compound</th>\n",
       "      <th>positive</th>\n",
       "      <th>negative</th>\n",
       "      <th>neutral</th>\n",
       "    </tr>\n",
       "  </thead>\n",
       "  <tbody>\n",
       "    <tr>\n",
       "      <th>0</th>\n",
       "      <td>2020-06-04</td>\n",
       "      <td>34072.50</td>\n",
       "      <td>34310.14</td>\n",
       "      <td>33711.24</td>\n",
       "      <td>33980.70</td>\n",
       "      <td>33980.70</td>\n",
       "      <td>17900.0</td>\n",
       "      <td>-0.9994</td>\n",
       "      <td>0.076</td>\n",
       "      <td>0.103</td>\n",
       "      <td>0.821</td>\n",
       "    </tr>\n",
       "    <tr>\n",
       "      <th>1</th>\n",
       "      <td>2020-06-05</td>\n",
       "      <td>34198.55</td>\n",
       "      <td>34405.43</td>\n",
       "      <td>33958.02</td>\n",
       "      <td>34287.24</td>\n",
       "      <td>34287.24</td>\n",
       "      <td>24600.0</td>\n",
       "      <td>-0.9998</td>\n",
       "      <td>0.083</td>\n",
       "      <td>0.130</td>\n",
       "      <td>0.787</td>\n",
       "    </tr>\n",
       "    <tr>\n",
       "      <th>2</th>\n",
       "      <td>2020-06-08</td>\n",
       "      <td>34841.17</td>\n",
       "      <td>34927.80</td>\n",
       "      <td>34211.83</td>\n",
       "      <td>34370.58</td>\n",
       "      <td>34370.58</td>\n",
       "      <td>25700.0</td>\n",
       "      <td>-0.9996</td>\n",
       "      <td>0.087</td>\n",
       "      <td>0.128</td>\n",
       "      <td>0.785</td>\n",
       "    </tr>\n",
       "    <tr>\n",
       "      <th>3</th>\n",
       "      <td>2020-06-09</td>\n",
       "      <td>34520.79</td>\n",
       "      <td>34811.29</td>\n",
       "      <td>33881.19</td>\n",
       "      <td>33956.69</td>\n",
       "      <td>33956.69</td>\n",
       "      <td>19200.0</td>\n",
       "      <td>-0.9997</td>\n",
       "      <td>0.070</td>\n",
       "      <td>0.117</td>\n",
       "      <td>0.813</td>\n",
       "    </tr>\n",
       "    <tr>\n",
       "      <th>4</th>\n",
       "      <td>2020-06-10</td>\n",
       "      <td>34029.14</td>\n",
       "      <td>34350.17</td>\n",
       "      <td>33949.46</td>\n",
       "      <td>34247.05</td>\n",
       "      <td>34247.05</td>\n",
       "      <td>15500.0</td>\n",
       "      <td>-0.9997</td>\n",
       "      <td>0.105</td>\n",
       "      <td>0.142</td>\n",
       "      <td>0.752</td>\n",
       "    </tr>\n",
       "  </tbody>\n",
       "</table>\n",
       "</div>"
      ],
      "text/plain": [
       "        Date      Open      High       Low    Close*  Adj Close**   Volume  \\\n",
       "0 2020-06-04  34072.50  34310.14  33711.24  33980.70     33980.70  17900.0   \n",
       "1 2020-06-05  34198.55  34405.43  33958.02  34287.24     34287.24  24600.0   \n",
       "2 2020-06-08  34841.17  34927.80  34211.83  34370.58     34370.58  25700.0   \n",
       "3 2020-06-09  34520.79  34811.29  33881.19  33956.69     33956.69  19200.0   \n",
       "4 2020-06-10  34029.14  34350.17  33949.46  34247.05     34247.05  15500.0   \n",
       "\n",
       "   compound  positive  negative  neutral  \n",
       "0   -0.9994     0.076     0.103    0.821  \n",
       "1   -0.9998     0.083     0.130    0.787  \n",
       "2   -0.9996     0.087     0.128    0.785  \n",
       "3   -0.9997     0.070     0.117    0.813  \n",
       "4   -0.9997     0.105     0.142    0.752  "
      ]
     },
     "execution_count": 34,
     "metadata": {},
     "output_type": "execute_result"
    }
   ],
   "source": [
    "stock_data.head()"
   ]
  },
  {
   "cell_type": "code",
   "execution_count": 35,
   "metadata": {},
   "outputs": [],
   "source": [
    "stock_data.set_index('Date',inplace = True)"
   ]
  },
  {
   "cell_type": "code",
   "execution_count": 36,
   "metadata": {},
   "outputs": [],
   "source": [
    "stock_data_scaled = stock_data.copy()"
   ]
  },
  {
   "cell_type": "code",
   "execution_count": 37,
   "metadata": {},
   "outputs": [],
   "source": [
    "from sklearn.preprocessing import StandardScaler\n",
    "ss = StandardScaler()\n",
    "stock_data_scaled = pd.DataFrame(ss.fit_transform(stock_data_scaled),columns = stock_data_scaled.columns)"
   ]
  },
  {
   "cell_type": "code",
   "execution_count": 38,
   "metadata": {},
   "outputs": [
    {
     "data": {
      "text/html": [
       "<div>\n",
       "<style scoped>\n",
       "    .dataframe tbody tr th:only-of-type {\n",
       "        vertical-align: middle;\n",
       "    }\n",
       "\n",
       "    .dataframe tbody tr th {\n",
       "        vertical-align: top;\n",
       "    }\n",
       "\n",
       "    .dataframe thead th {\n",
       "        text-align: right;\n",
       "    }\n",
       "</style>\n",
       "<table border=\"1\" class=\"dataframe\">\n",
       "  <thead>\n",
       "    <tr style=\"text-align: right;\">\n",
       "      <th></th>\n",
       "      <th>Open</th>\n",
       "      <th>High</th>\n",
       "      <th>Low</th>\n",
       "      <th>Close*</th>\n",
       "      <th>Adj Close**</th>\n",
       "      <th>Volume</th>\n",
       "      <th>compound</th>\n",
       "      <th>positive</th>\n",
       "      <th>negative</th>\n",
       "      <th>neutral</th>\n",
       "    </tr>\n",
       "  </thead>\n",
       "  <tbody>\n",
       "    <tr>\n",
       "      <th>0</th>\n",
       "      <td>-1.515146</td>\n",
       "      <td>-1.525938</td>\n",
       "      <td>-1.530911</td>\n",
       "      <td>-1.531519</td>\n",
       "      <td>-1.531519</td>\n",
       "      <td>-0.062033</td>\n",
       "      <td>-0.081181</td>\n",
       "      <td>-0.151921</td>\n",
       "      <td>-1.395561</td>\n",
       "      <td>1.063169</td>\n",
       "    </tr>\n",
       "    <tr>\n",
       "      <th>1</th>\n",
       "      <td>-1.481024</td>\n",
       "      <td>-1.499933</td>\n",
       "      <td>-1.464014</td>\n",
       "      <td>-1.448807</td>\n",
       "      <td>-1.448807</td>\n",
       "      <td>1.192517</td>\n",
       "      <td>-0.083626</td>\n",
       "      <td>0.433171</td>\n",
       "      <td>0.223209</td>\n",
       "      <td>-0.376903</td>\n",
       "    </tr>\n",
       "    <tr>\n",
       "      <th>2</th>\n",
       "      <td>-1.307070</td>\n",
       "      <td>-1.357380</td>\n",
       "      <td>-1.395211</td>\n",
       "      <td>-1.426320</td>\n",
       "      <td>-1.426320</td>\n",
       "      <td>1.398487</td>\n",
       "      <td>-0.082404</td>\n",
       "      <td>0.767510</td>\n",
       "      <td>0.103300</td>\n",
       "      <td>-0.461613</td>\n",
       "    </tr>\n",
       "    <tr>\n",
       "      <th>3</th>\n",
       "      <td>-1.393795</td>\n",
       "      <td>-1.389175</td>\n",
       "      <td>-1.484841</td>\n",
       "      <td>-1.537997</td>\n",
       "      <td>-1.537997</td>\n",
       "      <td>0.181387</td>\n",
       "      <td>-0.083015</td>\n",
       "      <td>-0.653428</td>\n",
       "      <td>-0.556199</td>\n",
       "      <td>0.724329</td>\n",
       "    </tr>\n",
       "    <tr>\n",
       "      <th>4</th>\n",
       "      <td>-1.526883</td>\n",
       "      <td>-1.515014</td>\n",
       "      <td>-1.466334</td>\n",
       "      <td>-1.459651</td>\n",
       "      <td>-1.459651</td>\n",
       "      <td>-0.511424</td>\n",
       "      <td>-0.083015</td>\n",
       "      <td>2.272032</td>\n",
       "      <td>0.942662</td>\n",
       "      <td>-1.859330</td>\n",
       "    </tr>\n",
       "  </tbody>\n",
       "</table>\n",
       "</div>"
      ],
      "text/plain": [
       "       Open      High       Low    Close*  Adj Close**    Volume  compound  \\\n",
       "0 -1.515146 -1.525938 -1.530911 -1.531519    -1.531519 -0.062033 -0.081181   \n",
       "1 -1.481024 -1.499933 -1.464014 -1.448807    -1.448807  1.192517 -0.083626   \n",
       "2 -1.307070 -1.357380 -1.395211 -1.426320    -1.426320  1.398487 -0.082404   \n",
       "3 -1.393795 -1.389175 -1.484841 -1.537997    -1.537997  0.181387 -0.083015   \n",
       "4 -1.526883 -1.515014 -1.466334 -1.459651    -1.459651 -0.511424 -0.083015   \n",
       "\n",
       "   positive  negative   neutral  \n",
       "0 -0.151921 -1.395561  1.063169  \n",
       "1  0.433171  0.223209 -0.376903  \n",
       "2  0.767510  0.103300 -0.461613  \n",
       "3 -0.653428 -0.556199  0.724329  \n",
       "4  2.272032  0.942662 -1.859330  "
      ]
     },
     "execution_count": 38,
     "metadata": {},
     "output_type": "execute_result"
    }
   ],
   "source": [
    "stock_data_scaled.head()"
   ]
  },
  {
   "cell_type": "code",
   "execution_count": 39,
   "metadata": {},
   "outputs": [],
   "source": [
    "x = stock_data_scaled.drop(columns = 'Close*')\n",
    "y = stock_data_scaled[['Close*']]"
   ]
  },
  {
   "cell_type": "code",
   "execution_count": 40,
   "metadata": {},
   "outputs": [],
   "source": [
    "from sklearn.model_selection import train_test_split\n",
    "x_train, x_test, y_train, y_test = train_test_split(x,y,test_size = 0.15,random_state = 0)"
   ]
  },
  {
   "cell_type": "code",
   "execution_count": 41,
   "metadata": {},
   "outputs": [
    {
     "data": {
      "text/plain": [
       "(125, 9)"
      ]
     },
     "execution_count": 41,
     "metadata": {},
     "output_type": "execute_result"
    }
   ],
   "source": [
    "x_train.shape"
   ]
  },
  {
   "cell_type": "code",
   "execution_count": 42,
   "metadata": {},
   "outputs": [
    {
     "data": {
      "text/plain": [
       "(125, 1)"
      ]
     },
     "execution_count": 42,
     "metadata": {},
     "output_type": "execute_result"
    }
   ],
   "source": [
    "y_train.shape"
   ]
  },
  {
   "cell_type": "markdown",
   "metadata": {},
   "source": [
    "## Model Development"
   ]
  },
  {
   "cell_type": "markdown",
   "metadata": {},
   "source": [
    "### Model-1 AdaBoost"
   ]
  },
  {
   "cell_type": "code",
   "execution_count": 43,
   "metadata": {},
   "outputs": [
    {
     "name": "stderr",
     "output_type": "stream",
     "text": [
      "c:\\users\\abid\\python 3.8\\lib\\site-packages\\sklearn\\utils\\validation.py:63: DataConversionWarning: A column-vector y was passed when a 1d array was expected. Please change the shape of y to (n_samples, ), for example using ravel().\n",
      "  return f(*args, **kwargs)\n"
     ]
    },
    {
     "data": {
      "text/plain": [
       "AdaBoostRegressor(base_estimator=DecisionTreeRegressor(ccp_alpha=0.01),\n",
       "                  learning_rate=0.5, n_estimators=100, random_state=0)"
      ]
     },
     "execution_count": 43,
     "metadata": {},
     "output_type": "execute_result"
    }
   ],
   "source": [
    "from sklearn.ensemble import AdaBoostRegressor\n",
    "from sklearn.tree import DecisionTreeRegressor\n",
    "adaboost = AdaBoostRegressor(base_estimator = DecisionTreeRegressor(criterion = 'mse',ccp_alpha= 0.01),learning_rate = 0.5,\n",
    "                            n_estimators = 100,random_state = 0)\n",
    "adaboost.fit(x_train,y_train)"
   ]
  },
  {
   "cell_type": "code",
   "execution_count": 44,
   "metadata": {},
   "outputs": [],
   "source": [
    "y_pred1 = adaboost.predict(x_test)"
   ]
  },
  {
   "cell_type": "markdown",
   "metadata": {},
   "source": [
    "#### Model Score, Feature Importances, Predicted vs Actual"
   ]
  },
  {
   "cell_type": "code",
   "execution_count": 45,
   "metadata": {},
   "outputs": [
    {
     "name": "stdout",
     "output_type": "stream",
     "text": [
      "Model Score is: 0.9864173250791991\n"
     ]
    }
   ],
   "source": [
    "from sklearn.metrics import r2_score\n",
    "print(\"Model Score is: {}\".format(r2_score(y_test,y_pred1)))"
   ]
  },
  {
   "cell_type": "code",
   "execution_count": 46,
   "metadata": {},
   "outputs": [
    {
     "data": {
      "text/plain": [
       "array([2.55308843e-01, 2.72103904e-01, 1.96059704e-01, 2.75209528e-01,\n",
       "       1.10050058e-03, 0.00000000e+00, 0.00000000e+00, 0.00000000e+00,\n",
       "       2.17520497e-04])"
      ]
     },
     "execution_count": 46,
     "metadata": {},
     "output_type": "execute_result"
    }
   ],
   "source": [
    "adaboost.feature_importances_"
   ]
  },
  {
   "cell_type": "code",
   "execution_count": 47,
   "metadata": {},
   "outputs": [
    {
     "data": {
      "text/plain": [
       "array([[-0.897892  ],\n",
       "       [-1.73439814],\n",
       "       [-0.46463276],\n",
       "       [ 0.99846847],\n",
       "       [-0.79949316]])"
      ]
     },
     "execution_count": 47,
     "metadata": {},
     "output_type": "execute_result"
    }
   ],
   "source": [
    "y_test.head().values"
   ]
  },
  {
   "cell_type": "code",
   "execution_count": 48,
   "metadata": {},
   "outputs": [
    {
     "data": {
      "text/plain": [
       "array([-0.86314697, -1.45644847, -0.38218727,  1.10795161, -0.78311184])"
      ]
     },
     "execution_count": 48,
     "metadata": {},
     "output_type": "execute_result"
    }
   ],
   "source": [
    "y_pred1[:5]"
   ]
  },
  {
   "cell_type": "markdown",
   "metadata": {},
   "source": [
    "### Model-2 Support Vector Machines"
   ]
  },
  {
   "cell_type": "code",
   "execution_count": 49,
   "metadata": {},
   "outputs": [
    {
     "name": "stderr",
     "output_type": "stream",
     "text": [
      "c:\\users\\abid\\python 3.8\\lib\\site-packages\\sklearn\\utils\\validation.py:63: DataConversionWarning: A column-vector y was passed when a 1d array was expected. Please change the shape of y to (n_samples, ), for example using ravel().\n",
      "  return f(*args, **kwargs)\n"
     ]
    },
    {
     "data": {
      "text/plain": [
       "SVR(kernel='linear')"
      ]
     },
     "execution_count": 49,
     "metadata": {},
     "output_type": "execute_result"
    }
   ],
   "source": [
    "from sklearn.svm import SVR\n",
    "svm = SVR(kernel = 'linear')\n",
    "svm.fit(x_train,y_train)"
   ]
  },
  {
   "cell_type": "code",
   "execution_count": 50,
   "metadata": {},
   "outputs": [],
   "source": [
    "y_pred2 = svm.predict(x_test)"
   ]
  },
  {
   "cell_type": "markdown",
   "metadata": {},
   "source": [
    "#### Model Score, Predicted vs Actual"
   ]
  },
  {
   "cell_type": "code",
   "execution_count": 51,
   "metadata": {},
   "outputs": [
    {
     "name": "stdout",
     "output_type": "stream",
     "text": [
      "Model Score is: 0.9982722592177167\n"
     ]
    }
   ],
   "source": [
    "from sklearn.metrics import r2_score\n",
    "print(\"Model Score is: {}\".format(r2_score(y_test,y_pred2)))"
   ]
  },
  {
   "cell_type": "code",
   "execution_count": 52,
   "metadata": {},
   "outputs": [
    {
     "data": {
      "text/plain": [
       "array([[-0.897892  ],\n",
       "       [-1.73439814],\n",
       "       [-0.46463276],\n",
       "       [ 0.99846847],\n",
       "       [-0.79949316]])"
      ]
     },
     "execution_count": 52,
     "metadata": {},
     "output_type": "execute_result"
    }
   ],
   "source": [
    "y_test.head().values"
   ]
  },
  {
   "cell_type": "code",
   "execution_count": 53,
   "metadata": {},
   "outputs": [
    {
     "data": {
      "text/plain": [
       "array([-0.85413944, -1.67288189, -0.4068588 ,  0.99809977, -0.75448161])"
      ]
     },
     "execution_count": 53,
     "metadata": {},
     "output_type": "execute_result"
    }
   ],
   "source": [
    "y_pred2[:5]"
   ]
  },
  {
   "cell_type": "code",
   "execution_count": null,
   "metadata": {},
   "outputs": [],
   "source": []
  }
 ],
 "metadata": {
  "kernelspec": {
   "display_name": "Python 3",
   "language": "python",
   "name": "python3"
  },
  "language_info": {
   "codemirror_mode": {
    "name": "ipython",
    "version": 3
   },
   "file_extension": ".py",
   "mimetype": "text/x-python",
   "name": "python",
   "nbconvert_exporter": "python",
   "pygments_lexer": "ipython3",
   "version": "3.8.5"
  }
 },
 "nbformat": 4,
 "nbformat_minor": 4
}
